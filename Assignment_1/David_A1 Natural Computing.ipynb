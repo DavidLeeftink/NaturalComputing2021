{
 "cells": [
  {
   "cell_type": "code",
   "execution_count": 1,
   "metadata": {},
   "outputs": [
    {
     "data": {
      "text/html": [
       "<style>.container { width:100% !important; }</style>"
      ],
      "text/plain": [
       "<IPython.core.display.HTML object>"
      ]
     },
     "metadata": {},
     "output_type": "display_data"
    }
   ],
   "source": [
    "import numpy as np\n",
    "import matplotlib.pyplot as plt\n",
    "from IPython.core.display import display, HTML\n",
    "display(HTML(\"<style>.container { width:100% !important; }</style>\"))"
   ]
  },
  {
   "cell_type": "markdown",
   "metadata": {},
   "source": [
    "Stijn de Boer (s1003731), \n",
    "Ron Hommelsheim (s1003731),\n",
    "David Leeftink (s4496612)."
   ]
  },
  {
   "cell_type": "markdown",
   "metadata": {},
   "source": [
    "### Exercise 4: Role of selection in GA’ s"
   ]
  },
  {
   "cell_type": "code",
   "execution_count": 2,
   "metadata": {},
   "outputs": [],
   "source": [
    "def binary_GA(l=100, n_iter=1500):\n",
    "    \"\"\"\n",
    "    (1+1) GA for solving the Counting Ones problem. \n",
    "    \n",
    "    :param l (int): length of the bit string\n",
    "    :param n_iter (int): number of iterations of the algorithm    \n",
    "    \n",
    "    :return x (NumPy array) bit string with maximum sum of elements\n",
    "    :return F (n_iter x 3)\n",
    "    :return max_score_reached (Bool) True if l ones are present in final string\n",
    "    \"\"\"\n",
    "    # random initial bit sequence \n",
    "    x   = np.random.randint(2, size=l)\n",
    "    mutation_rate = 1/l\n",
    "    F = np.zeros(n_iter) # fitness\n",
    "    \n",
    "    for i in range(n_iter):\n",
    "        # Invert x_m at each bit with p = 1/l    \n",
    "        invert_idx = np.random.binomial(size=l, n=1, p=mutation_rate) # bernoulli trial for each gene with p=1/l\n",
    "        x_m        = np.abs(x-invert_idx)\n",
    "        \n",
    "        # Compute fitness, keep best solution\n",
    "        f_x, f_xm = np.sum(x), np.sum(x_m)\n",
    "        F[i] = np.maximum(f_x, f_xm)\n",
    "\n",
    "        if f_xm > f_x: \n",
    "            x = x_m\n",
    "            \n",
    "    converged = np.sum(x)==l\n",
    "    return x, F, converged\n",
    "\n",
    "def plot_convergence(F, l, filepath=None):\n",
    "    n_iter = F.shape[0]\n",
    "    plt.figure(figsize=(8,5))    \n",
    "    plt.plot(np.arange(n_iter), F, label='best')\n",
    "    plt.axhline(y=l, linestyle=':', color='black', label='maximum score')\n",
    "    plt.xlabel('Iterations')\n",
    "    plt.ylabel('Fitness')\n",
    "    plt.title('Convergence of (1+1) GA on Counting Ones problem')\n",
    "    plt.legend()\n",
    "    if filepath is not None:\n",
    "        plt.savefig(filepath)\n",
    "    plt.show()"
   ]
  },
  {
   "cell_type": "code",
   "execution_count": 3,
   "metadata": {},
   "outputs": [
    {
     "name": "stdout",
     "output_type": "stream",
     "text": [
      "converged: True\n"
     ]
    },
    {
     "data": {
      "image/png": "[encoded data removed]",
      "text/plain": [
       "<Figure size 576x360 with 1 Axes>"
      ]
     },
     "metadata": {
      "needs_background": "light"
     },
     "output_type": "display_data"
    }
   ],
   "source": [
    "l, n_iter = 100, 1500\n",
    "x, F, converged = binary_GA(l=l, n_iter=n_iter)\n",
    "print(f'converged: {converged}')\n",
    "plot_convergence(F, l)#, filepath='A1_4a_GA.pdf')"
   ]
  },
  {
   "cell_type": "code",
   "execution_count": 4,
   "metadata": {},
   "outputs": [
    {
     "name": "stdout",
     "output_type": "stream",
     "text": [
      "9/10\n",
      "92/100\n"
     ]
    }
   ],
   "source": [
    "# 10 runs\n",
    "l, n_iter = 100, 1500\n",
    "n_trials, n_converged = 10, 0\n",
    "\n",
    "for i in range(n_trials):\n",
    "    x, F, converged = binary_GA(l=l, n_iter=n_iter)\n",
    "    if converged:\n",
    "        n_converged += 1\n",
    "\n",
    "print(f'{n_converged}/{n_trials}')       \n",
    "# 100 runs\n",
    "l, n_iter = 100, 1500\n",
    "n_trials, n_converged = 100, 0\n",
    "\n",
    "for i in range(n_trials):\n",
    "    x, F, converged = binary_GA(l=l, n_iter=n_iter)\n",
    "    if converged:\n",
    "        n_converged += 1\n",
    "\n",
    "print(f'{n_converged}/{n_trials}')  "
   ]
  },
  {
   "cell_type": "markdown",
   "metadata": {},
   "source": [
    "  ### c. Always replace $x$ with $x_m$"
   ]
  },
  {
   "cell_type": "code",
   "execution_count": 5,
   "metadata": {},
   "outputs": [],
   "source": [
    "def binary_GA_altered(l=100, n_iter=1500):\n",
    "    \"\"\"\n",
    "    (1+1) GA for solving the Counting Ones problem.\n",
    "    always accepts the next generation.\n",
    "    \n",
    "    :param l (int): length of the bit string\n",
    "    :param n_iter (int): number of iterations of the algorithm    \n",
    "    \n",
    "    :return x (NumPy array) bit string with maximum sum of elements\n",
    "    :return F (n_iter x 3)\n",
    "    :return max_score_reached (Bool) True if l ones are present in final string\n",
    "    \"\"\"\n",
    "    # random initial bit sequence \n",
    "    x   = np.random.randint(2, size=l)\n",
    "    mutation_rate = 1/l\n",
    "    F = np.zeros(n_iter) # fitness\n",
    "    \n",
    "    for i in range(n_iter):\n",
    "        # Invert x_m at each bit with p = 1/l    \n",
    "        invert_idx = np.random.binomial(size=l, n=1, p=mutation_rate) # bernoulli trial for each gene with p=1/l\n",
    "        x_m        = np.abs(x-invert_idx)\n",
    "        \n",
    "        # Compute fitness, keep best solution\n",
    "        f_x, f_xm = np.sum(x), np.sum(x_m)\n",
    "        F[i] = np.maximum(f_x, f_xm)\n",
    "        x = x_m\n",
    "        \n",
    "            \n",
    "    converged = np.sum(x)==l\n",
    "    return x, F, converged"
   ]
  },
  {
   "cell_type": "code",
   "execution_count": 6,
   "metadata": {},
   "outputs": [
    {
     "name": "stdout",
     "output_type": "stream",
     "text": [
      "converged: False\n"
     ]
    },
    {
     "data": {
      "image/png": "[encoded data removed]",
      "text/plain": [
       "<Figure size 576x360 with 1 Axes>"
      ]
     },
     "metadata": {
      "needs_background": "light"
     },
     "output_type": "display_data"
    },
    {
     "name": "stdout",
     "output_type": "stream",
     "text": [
      "0/10\n",
      "0/100\n"
     ]
    }
   ],
   "source": [
    "# 1 run\n",
    "l, n_iter = 100, 1500\n",
    "x, F, converged = binary_GA_altered(l=l, n_iter=n_iter)\n",
    "print(f'converged: {converged}')\n",
    "plot_convergence(F, l, filepath='A1_4c.pdf')\n",
    "\n",
    "# 10 runs\n",
    "l, n_iter = 100, 1500\n",
    "n_trials, n_converged = 10, 0\n",
    "\n",
    "for i in range(n_trials):\n",
    "    x, F, converged = binary_GA_altered(l=l, n_iter=n_iter)\n",
    "    if converged:\n",
    "        n_converged += 1\n",
    "\n",
    "print(f'{n_converged}/{n_trials}')       \n",
    "# 100 runs\n",
    "l, n_iter = 10, 1500\n",
    "n_trials, n_converged = 100, 0\n",
    "\n",
    "for i in range(n_trials):\n",
    "    x, F, converged = binary_GA_altered(l=l, n_iter=n_iter)\n",
    "    if converged:\n",
    "        n_converged += 1\n",
    "\n",
    "print(f'{n_converged}/{n_trials}')  "
   ]
  },
  {
   "cell_type": "markdown",
   "metadata": {},
   "source": [
    "### Exercise 6: Memetic algorithm for the TSP"
   ]
  },
  {
   "cell_type": "code",
   "execution_count": null,
   "metadata": {},
   "outputs": [],
   "source": []
  },
  {
   "cell_type": "code",
   "execution_count": null,
   "metadata": {},
   "outputs": [],
   "source": []
  },
  {
   "cell_type": "code",
   "execution_count": null,
   "metadata": {},
   "outputs": [],
   "source": []
  },
  {
   "cell_type": "code",
   "execution_count": null,
   "metadata": {},
   "outputs": [],
   "source": []
  },
  {
   "cell_type": "code",
   "execution_count": null,
   "metadata": {},
   "outputs": [],
   "source": []
  },
  {
   "cell_type": "code",
   "execution_count": null,
   "metadata": {},
   "outputs": [],
   "source": []
  }
 ],
 "metadata": {
  "kernelspec": {
   "display_name": "Python 3",
   "language": "python",
   "name": "python3"
  },
  "language_info": {
   "codemirror_mode": {
    "name": "ipython",
    "version": 3
   },
   "file_extension": ".py",
   "mimetype": "text/x-python",
   "name": "python",
   "nbconvert_exporter": "python",
   "pygments_lexer": "ipython3",
   "version": "3.7.6"
  }
 },
 "nbformat": 4,
 "nbformat_minor": 4
}
